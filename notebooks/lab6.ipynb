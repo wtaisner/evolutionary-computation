{
 "cells": [
  {
   "cell_type": "code",
   "execution_count": null,
   "metadata": {
    "collapsed": true
   },
   "outputs": [],
   "source": [
    "import numpy as np\n",
    "from tqdm import tqdm\n",
    "\n",
    "from src.visualization import plot_result\n",
    "from src.algorithms import LocalSearchTSP, CandidateSteepestLocalSearchTSP, MultipleStartLocalSearch, IteratedLocalSearch"
   ]
  },
  {
   "cell_type": "code",
   "execution_count": null,
   "outputs": [],
   "source": [
    "def pretty_print_msls(algorithm, values):\n",
    "    min_time, max_time, avg_time, minv, maxv, avgv = values\n",
    "    print(f'Algorithm: {algorithm}:')\n",
    "    print(f'    objective: {avgv}({int(minv)} - {int(maxv)})')\n",
    "    print(f'    times: {avg_time}({min_time} - {max_time})')\n",
    "    print('========================================================')\n",
    "\n",
    "def pretty_print_ils(algorithm, values):\n",
    "    min_time, max_time, avg_time, minv, maxv, avgv, min_iters, max_iters, avg_iters = values\n",
    "    print(f'Algorithm: {algorithm}:')\n",
    "    print(f'    objective: {avgv}({int(minv)} - {int(maxv)})')\n",
    "    print(f'    times: {avg_time}({min_time} - {max_time})')\n",
    "    print(f'    iterations: {avg_iters}({min_iters} - {max_iters})')\n",
    "    print('========================================================')"
   ],
   "metadata": {
    "collapsed": false
   }
  },
  {
   "cell_type": "code",
   "execution_count": null,
   "outputs": [],
   "source": [
    "def experiments(node_path):\n",
    "    seed = 841\n",
    "    nodes_instance = np.genfromtxt(node_path, dtype=int, delimiter=';')\n",
    "    algorithms_msls = {\n",
    "        'msls_steepest': MultipleStartLocalSearch(node_path, LocalSearchTSP('steepest', node_path, 'edges', 'random')),\n",
    "        'msls_steepest_candidate': MultipleStartLocalSearch(node_path, CandidateSteepestLocalSearchTSP(node_path, k=10))\n",
    "    }\n",
    "    results_msls = {}\n",
    "    for key, algorithm in tqdm(algorithms_msls.items()):\n",
    "        result = algorithm.run_experiment(seed=seed)\n",
    "        results_msls[key] = result\n",
    "\n",
    "    for key, result in results_msls.items():\n",
    "        values = result[:-2]\n",
    "        pretty_print_msls(key, values)\n",
    "\n",
    "    for key, result in results_msls.items():\n",
    "        minv, path = result[3], result[-2]\n",
    "        plot_result(nodes_instance, path, minv)\n",
    "        print('===============================================================')\n",
    "\n",
    "    algorithms_ils = {\n",
    "        'ils_steepest': IteratedLocalSearch(node_path, LocalSearchTSP('steepest', node_path, 'edges', 'random'), max_time=results_msls['msls_steepest'][2]),\n",
    "        'ils_steepest_candidate': IteratedLocalSearch(node_path, CandidateSteepestLocalSearchTSP(node_path, k=10), max_time=results_msls['msls_steepest_candidate'][2])\n",
    "    }\n",
    "\n",
    "    results_ils = {}\n",
    "    for key, algorithm in tqdm(algorithms_ils.items()):\n",
    "        result = algorithm.run_experiment(seed=seed)\n",
    "        results_ils[key] = result\n",
    "\n",
    "    for key, result in results_ils.items():\n",
    "        values = result[:-2]\n",
    "        pretty_print_ils(key, values)\n",
    "\n",
    "    for key, result in results_ils.items():\n",
    "        minv, path = result[3], result[-2]\n",
    "        plot_result(nodes_instance, path, minv)\n",
    "        print('===============================================================')"
   ],
   "metadata": {
    "collapsed": false
   }
  },
  {
   "cell_type": "markdown",
   "source": [
    "# Instance C"
   ],
   "metadata": {
    "collapsed": false
   }
  },
  {
   "cell_type": "code",
   "execution_count": null,
   "outputs": [],
   "source": [
    "node_path_C = '../data/TSPC.csv'\n",
    "experiments(node_path_C)"
   ],
   "metadata": {
    "collapsed": false
   }
  },
  {
   "cell_type": "markdown",
   "source": [
    "# Instance D"
   ],
   "metadata": {
    "collapsed": false
   }
  },
  {
   "cell_type": "code",
   "execution_count": null,
   "outputs": [],
   "source": [
    "node_path_D = '../data/TSPD.csv'\n",
    "experiments(node_path_D)"
   ],
   "metadata": {
    "collapsed": false
   }
  },
  {
   "cell_type": "code",
   "execution_count": null,
   "outputs": [],
   "source": [],
   "metadata": {
    "collapsed": false
   }
  }
 ],
 "metadata": {
  "kernelspec": {
   "display_name": "Python 3",
   "language": "python",
   "name": "python3"
  },
  "language_info": {
   "codemirror_mode": {
    "name": "ipython",
    "version": 2
   },
   "file_extension": ".py",
   "mimetype": "text/x-python",
   "name": "python",
   "nbconvert_exporter": "python",
   "pygments_lexer": "ipython2",
   "version": "2.7.6"
  }
 },
 "nbformat": 4,
 "nbformat_minor": 0
}
