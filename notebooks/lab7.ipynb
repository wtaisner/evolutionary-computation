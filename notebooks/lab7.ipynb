{
 "cells": [
  {
   "cell_type": "code",
   "execution_count": 4,
   "outputs": [],
   "source": [
    "import sys\n",
    "sys.path.append('../')"
   ],
   "metadata": {
    "collapsed": false
   }
  },
  {
   "cell_type": "code",
   "execution_count": 5,
   "outputs": [],
   "source": [
    "import numpy as np\n",
    "from tqdm import tqdm\n",
    "\n",
    "from src.visualization import plot_result\n",
    "from src.algorithms import LocalSearchTSP, IteratedLocalSearch, LargeScaleNeighbourSearch"
   ],
   "metadata": {
    "collapsed": false
   }
  },
  {
   "cell_type": "code",
   "execution_count": null,
   "outputs": [],
   "source": [
    "def pretty_print(algorithm, values):\n",
    "    min_time, max_time, avg_time, minv, maxv, avgv, min_iters, max_iters, avg_iters = values\n",
    "    print(f'Algorithm: {algorithm}:')\n",
    "    print(f'    objective: {avgv}({int(minv)} - {int(maxv)})')\n",
    "    print(f'    times: {avg_time}({min_time} - {max_time})')\n",
    "    print(f'    iterations: {avg_iters}({min_iters} - {max_iters})')\n",
    "    print('========================================================')"
   ],
   "metadata": {
    "collapsed": false
   }
  },
  {
   "cell_type": "code",
   "execution_count": null,
   "outputs": [],
   "source": [
    "def experiments(node_path, max_time):\n",
    "    seed = 841\n",
    "    nodes_instance = np.genfromtxt(node_path, dtype=int, delimiter=';')\n",
    "\n",
    "    algorithms_ils = {\n",
    "        'ils_steepest': IteratedLocalSearch(node_path, LocalSearchTSP('steepest', node_path, 'edges', 'random'), max_time=max_time),\n",
    "        'large_scale_neighbourhood_no_ls': LargeScaleNeighbourSearch(node_path, LocalSearchTSP('steepest', node_path, 'edges', 'random'), max_time=max_time, use_ls=False),\n",
    "        'large_scale_neighbourhood_ls': LargeScaleNeighbourSearch(node_path, LocalSearchTSP('steepest', node_path, 'edges', 'random'), max_time=max_time, use_ls=True),\n",
    "    }\n",
    "\n",
    "    results= {}\n",
    "    for key, algorithm in tqdm(algorithms_ils.items()):\n",
    "        result = algorithm.run_experiment(seed=seed)\n",
    "        results[key] = result\n",
    "\n",
    "    for key, result in results.items():\n",
    "        values = result[:-2]\n",
    "        pretty_print(key, values)\n",
    "\n",
    "    for key, result in results.items():\n",
    "        minv, path = result[3], result[-2]\n",
    "        plot_result(nodes_instance, path, minv)\n",
    "        print('===============================================================')"
   ],
   "metadata": {
    "collapsed": false
   }
  },
  {
   "cell_type": "markdown",
   "source": [
    "# Instance C"
   ],
   "metadata": {
    "collapsed": false
   }
  },
  {
   "cell_type": "code",
   "execution_count": null,
   "outputs": [],
   "source": [
    "node_path_C = '../data/TSPC.csv'\n",
    "experiments(node_path_C, max_time=530.4385324001312)"
   ],
   "metadata": {
    "collapsed": false
   }
  },
  {
   "cell_type": "markdown",
   "source": [
    "# Instance D"
   ],
   "metadata": {
    "collapsed": false
   }
  },
  {
   "cell_type": "code",
   "execution_count": null,
   "outputs": [],
   "source": [
    "node_path_D = '../data/TSPD.csv'\n",
    "experiments(node_path_D, max_time=542.4154284715653)"
   ],
   "metadata": {
    "collapsed": false
   }
  },
  {
   "cell_type": "code",
   "execution_count": null,
   "outputs": [],
   "source": [],
   "metadata": {
    "collapsed": false
   }
  }
 ],
 "metadata": {
  "kernelspec": {
   "display_name": "Python 3",
   "language": "python",
   "name": "python3"
  },
  "language_info": {
   "codemirror_mode": {
    "name": "ipython",
    "version": 2
   },
   "file_extension": ".py",
   "mimetype": "text/x-python",
   "name": "python",
   "nbconvert_exporter": "python",
   "pygments_lexer": "ipython2",
   "version": "2.7.6"
  }
 },
 "nbformat": 4,
 "nbformat_minor": 0
}
